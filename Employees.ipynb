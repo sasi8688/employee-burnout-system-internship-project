{
  "cells": [
    {
      "cell_type": "code",
      "execution_count": null,
      "id": "-Dp54_t3ObMn",
      "metadata": {
        "id": "-Dp54_t3ObMn"
      },
      "outputs": [],
      "source": [
        "# Importing necessary libraries\n",
        "import numpy as np\n",
        "import pandas as pd\n",
        "import matplotlib.pyplot as plt\n",
        "import seaborn as sns\n",
        "from sklearn.model_selection import train_test_split\n",
        "from sklearn.linear_model import LinearRegression\n",
        "from sklearn.metrics import mean_squared_error, mean_absolute_error, r2_score\n",
        "from sklearn.preprocessing import StandardScaler\n",
        "import pickle as pickle\n",
        "import os"
      ]
    },
    {
      "cell_type": "code",
      "execution_count": null,
      "id": "73373033",
      "metadata": {
        "id": "73373033",
        "scrolled": true,
        "colab": {
          "base_uri": "https://localhost:8080/"
        },
        "outputId": "13ac992f-8c49-495c-e900-693146180cc2"
      },
      "outputs": [
        {
          "output_type": "execute_result",
          "data": {
            "text/plain": [
              "(22750, 9)"
            ]
          },
          "metadata": {},
          "execution_count": 43
        }
      ],
      "source": [
        "data = pd.read_excel(\"/content/employee_burnout_analysis-AI.xlsx\")\n",
        "data.shape"
      ]
    },
    {
      "cell_type": "code",
      "execution_count": null,
      "id": "4648e487",
      "metadata": {
        "id": "4648e487"
      },
      "outputs": [],
      "source": [
        "def preprocess_inputs(df):\n",
        "    df = df.copy()\n",
        "\n",
        "    # Drop Employee ID column\n",
        "    df = df.drop('Employee ID', axis=1)\n",
        "\n",
        "    # Drop rows with missing target values\n",
        "    missing_target_rows = df.loc[df['Burn Rate'].isna(), :].index\n",
        "    df = df.drop(missing_target_rows, axis=0).reset_index(drop=True)\n",
        "\n",
        "    # Fill remaining missing values with column means\n",
        "    for column in ['Resource Allocation', 'Mental Fatigue Score']:\n",
        "        df[column] = df[column].fillna(df[column].mean())\n",
        "\n",
        "    # Extract date features\n",
        "    df['Date of Joining'] = pd.to_datetime(df['Date of Joining'])\n",
        "    df['Join Month'] = df['Date of Joining'].apply(lambda x: x.month)\n",
        "    df['Join Day'] = df['Date of Joining'].apply(lambda x: x.day)\n",
        "    df = df.drop('Date of Joining', axis=1)\n",
        "\n",
        "    # Binary encoding\n",
        "    df['Gender'] = df['Gender'].replace({'Female': 0, 'Male': 1})\n",
        "    df['Company Type'] = df['Company Type'].replace({'Product': 0, 'Service': 1})\n",
        "    df['WFH Setup Available'] = df['WFH Setup Available'].replace({'No': 0, 'Yes': 1})\n",
        "\n",
        "    # Split df into X and y\n",
        "    y = df['Burn Rate']\n",
        "    X = df.drop('Burn Rate', axis=1)\n",
        "\n",
        "    # Train-test split\n",
        "    X_train, X_test, y_train, y_test = train_test_split(X, y, train_size=0.7, shuffle=True, random_state=1)\n",
        "\n",
        "    # Scale X\n",
        "    scaler = StandardScaler()\n",
        "    scaler.fit(X_train)\n",
        "    X_train = pd.DataFrame(scaler.transform(X_train), index=X_train.index, columns=X_train.columns)\n",
        "    X_test = pd.DataFrame(scaler.transform(X_test), index=X_test.index, columns=X_test.columns)\n",
        "\n",
        "    return X_train, X_test, y_train, y_test"
      ]
    },
    {
      "cell_type": "code",
      "execution_count": null,
      "id": "ovjBlKMZ1nKY",
      "metadata": {
        "id": "ovjBlKMZ1nKY"
      },
      "outputs": [],
      "source": [
        "data.describe()"
      ]
    },
    {
      "cell_type": "code",
      "execution_count": null,
      "id": "2565ac0a",
      "metadata": {
        "id": "2565ac0a"
      },
      "outputs": [],
      "source": [
        "data.columns.tolist()"
      ]
    },
    {
      "cell_type": "code",
      "execution_count": null,
      "id": "d8f08d96",
      "metadata": {
        "id": "d8f08d96"
      },
      "outputs": [],
      "source": [
        "data.nunique()"
      ]
    },
    {
      "cell_type": "code",
      "execution_count": null,
      "id": "a8029c3c",
      "metadata": {
        "id": "a8029c3c"
      },
      "outputs": [],
      "source": [
        "data.info()"
      ]
    },
    {
      "cell_type": "code",
      "execution_count": null,
      "id": "0868ed6f",
      "metadata": {
        "id": "0868ed6f"
      },
      "outputs": [],
      "source": [
        "data.isnull().sum()"
      ]
    },
    {
      "cell_type": "code",
      "execution_count": null,
      "id": "cab76033",
      "metadata": {
        "id": "cab76033"
      },
      "outputs": [],
      "source": [
        "data.isnull().sum().values.sum()"
      ]
    },
    {
      "cell_type": "code",
      "execution_count": null,
      "id": "0d261be2",
      "metadata": {
        "id": "0d261be2",
        "colab": {
          "base_uri": "https://localhost:8080/"
        },
        "outputId": "59e8e0d8-112b-494e-be03-db1d31b502ad"
      },
      "outputs": [
        {
          "output_type": "execute_result",
          "data": {
            "text/plain": [
              "Designation             0.737556\n",
              "Resource Allocation     0.856278\n",
              "Mental Fatigue Score    0.944546\n",
              "Name: Burn Rate, dtype: float64"
            ]
          },
          "metadata": {},
          "execution_count": 40
        }
      ],
      "source": [
        "data.corr(numeric_only=True)['Burn Rate'][:-1]"
      ]
    },
    {
      "cell_type": "markdown",
      "id": "12fa8b60",
      "metadata": {
        "id": "12fa8b60"
      },
      "source": [
        "## Exploratory Data Analysis"
      ]
    },
    {
      "cell_type": "markdown",
      "source": [
        "# New Section"
      ],
      "metadata": {
        "id": "hpgXFJ5VwnPl"
      },
      "id": "hpgXFJ5VwnPl"
    },
    {
      "cell_type": "markdown",
      "id": "b344253c",
      "metadata": {
        "id": "b344253c"
      },
      "source": [
        "These two variables are strongly correlated with target variable, therefore , important to estimate it."
      ]
    },
    {
      "cell_type": "code",
      "execution_count": null,
      "id": "74cb30f8",
      "metadata": {
        "id": "74cb30f8"
      },
      "outputs": [],
      "source": [
        "sns.pairplot(data)\n",
        "plt.show()"
      ]
    },
    {
      "cell_type": "markdown",
      "id": "73c3cdca",
      "metadata": {
        "id": "73c3cdca"
      },
      "source": [
        "Drop off all observations with NaN values of our dataframe."
      ]
    },
    {
      "cell_type": "code",
      "execution_count": null,
      "id": "1e3dcb58",
      "metadata": {
        "id": "1e3dcb58"
      },
      "outputs": [],
      "source": [
        "data = data.dropna()"
      ]
    },
    {
      "cell_type": "code",
      "execution_count": null,
      "id": "a6bf6dd2",
      "metadata": {
        "id": "a6bf6dd2",
        "colab": {
          "base_uri": "https://localhost:8080/"
        },
        "outputId": "924473d2-ed4e-456f-a3b3-6310a7abeccb"
      },
      "outputs": [
        {
          "output_type": "execute_result",
          "data": {
            "text/plain": [
              "(22750, 9)"
            ]
          },
          "metadata": {},
          "execution_count": 32
        }
      ],
      "source": [
        "data.shape"
      ]
    },
    {
      "cell_type": "code",
      "execution_count": null,
      "metadata": {
        "id": "pXwfq2NpOojs",
        "colab": {
          "base_uri": "https://localhost:8080/"
        },
        "outputId": "eea3f78b-27af-4e40-f530-bbfb2261da0a"
      },
      "outputs": [
        {
          "output_type": "execute_result",
          "data": {
            "text/plain": [
              "(22750, 9)"
            ]
          },
          "metadata": {},
          "execution_count": 33
        }
      ],
      "source": [
        "data.shape"
      ],
      "id": "pXwfq2NpOojs"
    },
    {
      "cell_type": "code",
      "execution_count": null,
      "id": "sNjDHYeDScCh",
      "metadata": {
        "id": "sNjDHYeDScCh"
      },
      "outputs": [],
      "source": []
    },
    {
      "cell_type": "markdown",
      "id": "6c38583e",
      "metadata": {
        "id": "6c38583e"
      },
      "source": [
        "Analyzing what type of data is each variable."
      ]
    },
    {
      "cell_type": "code",
      "execution_count": null,
      "id": "ebfec219",
      "metadata": {
        "id": "ebfec219",
        "colab": {
          "base_uri": "https://localhost:8080/"
        },
        "outputId": "c87f56eb-c7d3-4dda-f485-e59a46903d3c"
      },
      "outputs": [
        {
          "output_type": "execute_result",
          "data": {
            "text/plain": [
              "Employee ID              object\n",
              "Gender                   object\n",
              "Company Type             object\n",
              "WFH Setup Available      object\n",
              "Designation               int64\n",
              "Resource Allocation     float64\n",
              "Mental Fatigue Score    float64\n",
              "Burn Rate               float64\n",
              "dtype: object"
            ]
          },
          "metadata": {},
          "execution_count": 41
        }
      ],
      "source": [
        "data.dtypes"
      ]
    },
    {
      "cell_type": "code",
      "execution_count": null,
      "metadata": {
        "id": "tobu0Hu6Os65",
        "colab": {
          "base_uri": "https://localhost:8080/"
        },
        "outputId": "4f6c31ea-1f1a-4d7a-9fa9-3545053dbfd3"
      },
      "outputs": [
        {
          "output_type": "execute_result",
          "data": {
            "text/plain": [
              "Employee ID              object\n",
              "Gender                   object\n",
              "Company Type             object\n",
              "WFH Setup Available      object\n",
              "Designation               int64\n",
              "Resource Allocation     float64\n",
              "Mental Fatigue Score    float64\n",
              "Burn Rate               float64\n",
              "dtype: object"
            ]
          },
          "metadata": {},
          "execution_count": 42
        }
      ],
      "source": [
        "data.dtypes"
      ],
      "id": "tobu0Hu6Os65"
    },
    {
      "cell_type": "markdown",
      "id": "5697a94c",
      "metadata": {
        "id": "5697a94c"
      },
      "source": [
        " The values that each variable contains."
      ]
    },
    {
      "cell_type": "code",
      "execution_count": null,
      "id": "c690fd05",
      "metadata": {
        "id": "c690fd05",
        "colab": {
          "base_uri": "https://localhost:8080/"
        },
        "outputId": "db7d38bb-4825-4d86-a7fb-ae05b4c49d7f"
      },
      "outputs": [
        {
          "output_type": "stream",
          "name": "stdout",
          "text": [
            "{'Employee ID': array(['fffe32003000360033003200', 'fffe3700360033003500',\n",
            "       'fffe31003300320037003900', 'fffe32003400380032003900',\n",
            "       'fffe31003900340031003600', 'fffe3300350037003500',\n",
            "       'fffe33003300340039003100', 'fffe32003600320037003400',\n",
            "       'fffe32003200300034003700', 'fffe31003600320030003200'],\n",
            "      dtype=object), 'Gender': array(['Female', 'Male'], dtype=object), 'Company Type': array(['Service', 'Product'], dtype=object), 'WFH Setup Available': array(['No', 'Yes'], dtype=object)}\n"
          ]
        }
      ],
      "source": [
        "data_obj = data.select_dtypes(object)\n",
        "# prints a dictionary of max 10 unique values for each non-numeric column\n",
        "print({ c : data_obj[c].unique()[:10] for c in data_obj.columns})\n"
      ]
    },
    {
      "cell_type": "markdown",
      "id": "b449212a",
      "metadata": {
        "id": "b449212a"
      },
      "source": [
        "\n",
        "\n",
        "```\n",
        "# This is formatted as code\n",
        "```\n",
        "\n",
        " The employees ID doesn't provide any useful information and, therefore, they must be dropped."
      ]
    },
    {
      "cell_type": "code",
      "execution_count": null,
      "id": "1e4f8670",
      "metadata": {
        "id": "1e4f8670"
      },
      "outputs": [],
      "source": [
        "data = data.drop('Employee ID', axis = 1)\n"
      ]
    },
    {
      "cell_type": "raw",
      "id": "673d3f29",
      "metadata": {
        "id": "673d3f29"
      },
      "source": [
        "data.head()"
      ]
    },
    {
      "cell_type": "markdown",
      "id": "2d4a1374",
      "metadata": {
        "id": "2d4a1374"
      },
      "source": [
        "Checking the correlation of Date of Joining with Target variable"
      ]
    },
    {
      "cell_type": "code",
      "execution_count": null,
      "id": "ba66a313",
      "metadata": {
        "id": "ba66a313",
        "colab": {
          "base_uri": "https://localhost:8080/",
          "height": 504
        },
        "outputId": "0f850d41-dca5-43eb-f573-59b83a128ad0"
      },
      "outputs": [
        {
          "output_type": "stream",
          "name": "stdout",
          "text": [
            "Min date 2008-01-01 00:00:00\n",
            "Max date 2008-12-31 00:00:00\n"
          ]
        },
        {
          "output_type": "execute_result",
          "data": {
            "text/plain": [
              "<Axes: xlabel='Month', ylabel='Hired employees'>"
            ]
          },
          "metadata": {},
          "execution_count": 35
        },
        {
          "output_type": "display_data",
          "data": {
            "text/plain": [
              "<Figure size 640x480 with 1 Axes>"
            ],
            "image/png": "[encoded data removed]"
          },
          "metadata": {}
        }
      ],
      "source": [
        "print(f\"Min date {data['Date of Joining'].min()}\")\n",
        "print(f\"Max date {data['Date of Joining'].max()}\")\n",
        "data_month = data.copy()\n",
        "\n",
        "data_month[\"Date of Joining\"] = data_month['Date of Joining'].astype(\"datetime64[ns]\")\n",
        "data_month[\"Date of Joining\"].groupby(\n",
        "    data_month['Date of Joining'].dt.month\n",
        ").count().plot(kind=\"bar\", xlabel='Month', ylabel=\"Hired employees\")"
      ]
    },
    {
      "cell_type": "markdown",
      "id": "f424c18e",
      "metadata": {
        "id": "f424c18e"
      },
      "source": [
        " The date of joining is uniform distributed with values between 2008-01-01 and 2008-12-31. So in order to create a new feature which represents the labor seniority, we could create a variable with de days worked"
      ]
    },
    {
      "cell_type": "code",
      "execution_count": null,
      "id": "737cc473",
      "metadata": {
        "id": "737cc473",
        "colab": {
          "base_uri": "https://localhost:8080/"
        },
        "outputId": "53dfdc70-33e8-4cd4-d516-6bc4ee4a101b"
      },
      "outputs": [
        {
          "output_type": "execute_result",
          "data": {
            "text/plain": [
              "0        273\n",
              "1        334\n",
              "2         69\n",
              "3        307\n",
              "4        205\n",
              "        ... \n",
              "22745    364\n",
              "22746     18\n",
              "22747    309\n",
              "22748      9\n",
              "22749      5\n",
              "Name: Days, Length: 22750, dtype: int64"
            ]
          },
          "metadata": {},
          "execution_count": 34
        }
      ],
      "source": [
        "data_2008 = pd.to_datetime([\"2008-01-01\"]*len(data))\n",
        "data[\"Days\"] = data['Date of Joining'].astype(\"datetime64[ns]\").sub(data_2008).dt.days\n",
        "data.Days"
      ]
    },
    {
      "cell_type": "code",
      "execution_count": null,
      "id": "f02dbeb6",
      "metadata": {
        "id": "f02dbeb6",
        "colab": {
          "base_uri": "https://localhost:8080/"
        },
        "outputId": "1dd2dfd8-3569-42a2-b788-31882a1217e8"
      },
      "outputs": [
        {
          "output_type": "execute_result",
          "data": {
            "text/plain": [
              "Designation             0.737556\n",
              "Resource Allocation     0.856278\n",
              "Mental Fatigue Score    0.944546\n",
              "Burn Rate               1.000000\n",
              "Days                   -0.001358\n",
              "Name: Burn Rate, dtype: float64"
            ]
          },
          "metadata": {},
          "execution_count": 37
        }
      ],
      "source": [
        "data.corr(numeric_only=True)['Burn Rate'][:]"
      ]
    },
    {
      "cell_type": "code",
      "source": [],
      "metadata": {
        "id": "nGaDFnPJlSCy"
      },
      "id": "nGaDFnPJlSCy",
      "execution_count": null,
      "outputs": []
    },
    {
      "cell_type": "code",
      "source": [],
      "metadata": {
        "id": "42abNVhIlSW0"
      },
      "id": "42abNVhIlSW0",
      "execution_count": null,
      "outputs": []
    },
    {
      "cell_type": "code",
      "source": [],
      "metadata": {
        "id": "N0y3tEQSlSrz"
      },
      "id": "N0y3tEQSlSrz",
      "execution_count": null,
      "outputs": []
    },
    {
      "cell_type": "code",
      "source": [],
      "metadata": {
        "id": "HZ1ofaaZlS0n"
      },
      "id": "HZ1ofaaZlS0n",
      "execution_count": null,
      "outputs": []
    },
    {
      "cell_type": "markdown",
      "source": [],
      "metadata": {
        "id": "pYaIDHJSoX1k"
      },
      "id": "pYaIDHJSoX1k"
    },
    {
      "cell_type": "markdown",
      "source": [],
      "metadata": {
        "id": "hL8xCKrmoYHJ"
      },
      "id": "hL8xCKrmoYHJ"
    },
    {
      "cell_type": "markdown",
      "id": "68259b05",
      "metadata": {
        "id": "68259b05"
      },
      "source": [
        "We observed that there is no strong correlation between Date of Joining and Burn Rate.So, we are dropping the column Date of Joining."
      ]
    },
    {
      "cell_type": "code",
      "execution_count": null,
      "id": "d4e8e42a",
      "metadata": {
        "id": "d4e8e42a"
      },
      "outputs": [],
      "source": [
        "data = data.drop(['Date of Joining','Days'], axis = 1)"
      ]
    },
    {
      "cell_type": "code",
      "execution_count": null,
      "id": "d70b280c",
      "metadata": {
        "id": "d70b280c",
        "colab": {
          "base_uri": "https://localhost:8080/",
          "height": 221
        },
        "outputId": "da9cb189-f786-44f8-93b1-97da6bb5e30c"
      },
      "outputs": [
        {
          "output_type": "execute_result",
          "data": {
            "text/plain": [
              "                Employee ID  Gender Company Type WFH Setup Available  \\\n",
              "0  fffe32003000360033003200  Female      Service                  No   \n",
              "1      fffe3700360033003500    Male      Service                 Yes   \n",
              "2  fffe31003300320037003900  Female      Product                 Yes   \n",
              "3  fffe32003400380032003900    Male      Service                 Yes   \n",
              "4  fffe31003900340031003600  Female      Service                  No   \n",
              "\n",
              "   Designation  Resource Allocation  Mental Fatigue Score  Burn Rate  \n",
              "0            2                  3.0                   3.8       0.16  \n",
              "1            1                  2.0                   5.0       0.36  \n",
              "2            2                  NaN                   5.8       0.49  \n",
              "3            1                  1.0                   2.6       0.20  \n",
              "4            3                  7.0                   6.9       0.52  "
            ],
            "text/html": [
              "\n",
              "  <div id=\"df-44c3b1aa-21ee-4db1-90b4-0ae82a747411\" class=\"colab-df-container\">\n",
              "    <div>\n",
              "<style scoped>\n",
              "    .dataframe tbody tr th:only-of-type {\n",
              "        vertical-align: middle;\n",
              "    }\n",
              "\n",
              "    .dataframe tbody tr th {\n",
              "        vertical-align: top;\n",
              "    }\n",
              "\n",
              "    .dataframe thead th {\n",
              "        text-align: right;\n",
              "    }\n",
              "</style>\n",
              "<table border=\"1\" class=\"dataframe\">\n",
              "  <thead>\n",
              "    <tr style=\"text-align: right;\">\n",
              "      <th></th>\n",
              "      <th>Employee ID</th>\n",
              "      <th>Gender</th>\n",
              "      <th>Company Type</th>\n",
              "      <th>WFH Setup Available</th>\n",
              "      <th>Designation</th>\n",
              "      <th>Resource Allocation</th>\n",
              "      <th>Mental Fatigue Score</th>\n",
              "      <th>Burn Rate</th>\n",
              "    </tr>\n",
              "  </thead>\n",
              "  <tbody>\n",
              "    <tr>\n",
              "      <th>0</th>\n",
              "      <td>fffe32003000360033003200</td>\n",
              "      <td>Female</td>\n",
              "      <td>Service</td>\n",
              "      <td>No</td>\n",
              "      <td>2</td>\n",
              "      <td>3.0</td>\n",
              "      <td>3.8</td>\n",
              "      <td>0.16</td>\n",
              "    </tr>\n",
              "    <tr>\n",
              "      <th>1</th>\n",
              "      <td>fffe3700360033003500</td>\n",
              "      <td>Male</td>\n",
              "      <td>Service</td>\n",
              "      <td>Yes</td>\n",
              "      <td>1</td>\n",
              "      <td>2.0</td>\n",
              "      <td>5.0</td>\n",
              "      <td>0.36</td>\n",
              "    </tr>\n",
              "    <tr>\n",
              "      <th>2</th>\n",
              "      <td>fffe31003300320037003900</td>\n",
              "      <td>Female</td>\n",
              "      <td>Product</td>\n",
              "      <td>Yes</td>\n",
              "      <td>2</td>\n",
              "      <td>NaN</td>\n",
              "      <td>5.8</td>\n",
              "      <td>0.49</td>\n",
              "    </tr>\n",
              "    <tr>\n",
              "      <th>3</th>\n",
              "      <td>fffe32003400380032003900</td>\n",
              "      <td>Male</td>\n",
              "      <td>Service</td>\n",
              "      <td>Yes</td>\n",
              "      <td>1</td>\n",
              "      <td>1.0</td>\n",
              "      <td>2.6</td>\n",
              "      <td>0.20</td>\n",
              "    </tr>\n",
              "    <tr>\n",
              "      <th>4</th>\n",
              "      <td>fffe31003900340031003600</td>\n",
              "      <td>Female</td>\n",
              "      <td>Service</td>\n",
              "      <td>No</td>\n",
              "      <td>3</td>\n",
              "      <td>7.0</td>\n",
              "      <td>6.9</td>\n",
              "      <td>0.52</td>\n",
              "    </tr>\n",
              "  </tbody>\n",
              "</table>\n",
              "</div>\n",
              "    <div class=\"colab-df-buttons\">\n",
              "\n",
              "  <div class=\"colab-df-container\">\n",
              "    <button class=\"colab-df-convert\" onclick=\"convertToInteractive('df-44c3b1aa-21ee-4db1-90b4-0ae82a747411')\"\n",
              "            title=\"Convert this dataframe to an interactive table.\"\n",
              "            style=\"display:none;\">\n",
              "\n",
              "  <svg xmlns=\"http://www.w3.org/2000/svg\" height=\"24px\" viewBox=\"0 -960 960 960\">\n",
              "    <path d=\"M120-120v-720h720v720H120Zm60-500h600v-160H180v160Zm220 220h160v-160H400v160Zm0 220h160v-160H400v160ZM180-400h160v-160H180v160Zm440 0h160v-160H620v160ZM180-180h160v-160H180v160Zm440 0h160v-160H620v160Z\"/>\n",
              "  </svg>\n",
              "    </button>\n",
              "\n",
              "  <style>\n",
              "    .colab-df-container {\n",
              "      display:flex;\n",
              "      gap: 12px;\n",
              "    }\n",
              "\n",
              "    .colab-df-convert {\n",
              "      background-color: #E8F0FE;\n",
              "      border: none;\n",
              "      border-radius: 50%;\n",
              "      cursor: pointer;\n",
              "      display: none;\n",
              "      fill: #1967D2;\n",
              "      height: 32px;\n",
              "      padding: 0 0 0 0;\n",
              "      width: 32px;\n",
              "    }\n",
              "\n",
              "    .colab-df-convert:hover {\n",
              "      background-color: #E2EBFA;\n",
              "      box-shadow: 0px 1px 2px rgba(60, 64, 67, 0.3), 0px 1px 3px 1px rgba(60, 64, 67, 0.15);\n",
              "      fill: #174EA6;\n",
              "    }\n",
              "\n",
              "    .colab-df-buttons div {\n",
              "      margin-bottom: 4px;\n",
              "    }\n",
              "\n",
              "    [theme=dark] .colab-df-convert {\n",
              "      background-color: #3B4455;\n",
              "      fill: #D2E3FC;\n",
              "    }\n",
              "\n",
              "    [theme=dark] .colab-df-convert:hover {\n",
              "      background-color: #434B5C;\n",
              "      box-shadow: 0px 1px 3px 1px rgba(0, 0, 0, 0.15);\n",
              "      filter: drop-shadow(0px 1px 2px rgba(0, 0, 0, 0.3));\n",
              "      fill: #FFFFFF;\n",
              "    }\n",
              "  </style>\n",
              "\n",
              "    <script>\n",
              "      const buttonEl =\n",
              "        document.querySelector('#df-44c3b1aa-21ee-4db1-90b4-0ae82a747411 button.colab-df-convert');\n",
              "      buttonEl.style.display =\n",
              "        google.colab.kernel.accessAllowed ? 'block' : 'none';\n",
              "\n",
              "      async function convertToInteractive(key) {\n",
              "        const element = document.querySelector('#df-44c3b1aa-21ee-4db1-90b4-0ae82a747411');\n",
              "        const dataTable =\n",
              "          await google.colab.kernel.invokeFunction('convertToInteractive',\n",
              "                                                    [key], {});\n",
              "        if (!dataTable) return;\n",
              "\n",
              "        const docLinkHtml = 'Like what you see? Visit the ' +\n",
              "          '<a target=\"_blank\" href=https://colab.research.google.com/notebooks/data_table.ipynb>data table notebook</a>'\n",
              "          + ' to learn more about interactive tables.';\n",
              "        element.innerHTML = '';\n",
              "        dataTable['output_type'] = 'display_data';\n",
              "        await google.colab.output.renderOutput(dataTable, element);\n",
              "        const docLink = document.createElement('div');\n",
              "        docLink.innerHTML = docLinkHtml;\n",
              "        element.appendChild(docLink);\n",
              "      }\n",
              "    </script>\n",
              "  </div>\n",
              "\n",
              "\n",
              "<div id=\"df-257c2b0e-6a8e-4471-9c79-28f3d22c48b3\">\n",
              "  <button class=\"colab-df-quickchart\" onclick=\"quickchart('df-257c2b0e-6a8e-4471-9c79-28f3d22c48b3')\"\n",
              "            title=\"Suggest charts\"\n",
              "            style=\"display:none;\">\n",
              "\n",
              "<svg xmlns=\"http://www.w3.org/2000/svg\" height=\"24px\"viewBox=\"0 0 24 24\"\n",
              "     width=\"24px\">\n",
              "    <g>\n",
              "        <path d=\"M19 3H5c-1.1 0-2 .9-2 2v14c0 1.1.9 2 2 2h14c1.1 0 2-.9 2-2V5c0-1.1-.9-2-2-2zM9 17H7v-7h2v7zm4 0h-2V7h2v10zm4 0h-2v-4h2v4z\"/>\n",
              "    </g>\n",
              "</svg>\n",
              "  </button>\n",
              "\n",
              "<style>\n",
              "  .colab-df-quickchart {\n",
              "      --bg-color: #E8F0FE;\n",
              "      --fill-color: #1967D2;\n",
              "      --hover-bg-color: #E2EBFA;\n",
              "      --hover-fill-color: #174EA6;\n",
              "      --disabled-fill-color: #AAA;\n",
              "      --disabled-bg-color: #DDD;\n",
              "  }\n",
              "\n",
              "  [theme=dark] .colab-df-quickchart {\n",
              "      --bg-color: #3B4455;\n",
              "      --fill-color: #D2E3FC;\n",
              "      --hover-bg-color: #434B5C;\n",
              "      --hover-fill-color: #FFFFFF;\n",
              "      --disabled-bg-color: #3B4455;\n",
              "      --disabled-fill-color: #666;\n",
              "  }\n",
              "\n",
              "  .colab-df-quickchart {\n",
              "    background-color: var(--bg-color);\n",
              "    border: none;\n",
              "    border-radius: 50%;\n",
              "    cursor: pointer;\n",
              "    display: none;\n",
              "    fill: var(--fill-color);\n",
              "    height: 32px;\n",
              "    padding: 0;\n",
              "    width: 32px;\n",
              "  }\n",
              "\n",
              "  .colab-df-quickchart:hover {\n",
              "    background-color: var(--hover-bg-color);\n",
              "    box-shadow: 0 1px 2px rgba(60, 64, 67, 0.3), 0 1px 3px 1px rgba(60, 64, 67, 0.15);\n",
              "    fill: var(--button-hover-fill-color);\n",
              "  }\n",
              "\n",
              "  .colab-df-quickchart-complete:disabled,\n",
              "  .colab-df-quickchart-complete:disabled:hover {\n",
              "    background-color: var(--disabled-bg-color);\n",
              "    fill: var(--disabled-fill-color);\n",
              "    box-shadow: none;\n",
              "  }\n",
              "\n",
              "  .colab-df-spinner {\n",
              "    border: 2px solid var(--fill-color);\n",
              "    border-color: transparent;\n",
              "    border-bottom-color: var(--fill-color);\n",
              "    animation:\n",
              "      spin 1s steps(1) infinite;\n",
              "  }\n",
              "\n",
              "  @keyframes spin {\n",
              "    0% {\n",
              "      border-color: transparent;\n",
              "      border-bottom-color: var(--fill-color);\n",
              "      border-left-color: var(--fill-color);\n",
              "    }\n",
              "    20% {\n",
              "      border-color: transparent;\n",
              "      border-left-color: var(--fill-color);\n",
              "      border-top-color: var(--fill-color);\n",
              "    }\n",
              "    30% {\n",
              "      border-color: transparent;\n",
              "      border-left-color: var(--fill-color);\n",
              "      border-top-color: var(--fill-color);\n",
              "      border-right-color: var(--fill-color);\n",
              "    }\n",
              "    40% {\n",
              "      border-color: transparent;\n",
              "      border-right-color: var(--fill-color);\n",
              "      border-top-color: var(--fill-color);\n",
              "    }\n",
              "    60% {\n",
              "      border-color: transparent;\n",
              "      border-right-color: var(--fill-color);\n",
              "    }\n",
              "    80% {\n",
              "      border-color: transparent;\n",
              "      border-right-color: var(--fill-color);\n",
              "      border-bottom-color: var(--fill-color);\n",
              "    }\n",
              "    90% {\n",
              "      border-color: transparent;\n",
              "      border-bottom-color: var(--fill-color);\n",
              "    }\n",
              "  }\n",
              "</style>\n",
              "\n",
              "  <script>\n",
              "    async function quickchart(key) {\n",
              "      const quickchartButtonEl =\n",
              "        document.querySelector('#' + key + ' button');\n",
              "      quickchartButtonEl.disabled = true;  // To prevent multiple clicks.\n",
              "      quickchartButtonEl.classList.add('colab-df-spinner');\n",
              "      try {\n",
              "        const charts = await google.colab.kernel.invokeFunction(\n",
              "            'suggestCharts', [key], {});\n",
              "      } catch (error) {\n",
              "        console.error('Error during call to suggestCharts:', error);\n",
              "      }\n",
              "      quickchartButtonEl.classList.remove('colab-df-spinner');\n",
              "      quickchartButtonEl.classList.add('colab-df-quickchart-complete');\n",
              "    }\n",
              "    (() => {\n",
              "      let quickchartButtonEl =\n",
              "        document.querySelector('#df-257c2b0e-6a8e-4471-9c79-28f3d22c48b3 button');\n",
              "      quickchartButtonEl.style.display =\n",
              "        google.colab.kernel.accessAllowed ? 'block' : 'none';\n",
              "    })();\n",
              "  </script>\n",
              "</div>\n",
              "\n",
              "    </div>\n",
              "  </div>\n"
            ],
            "application/vnd.google.colaboratory.intrinsic+json": {
              "type": "dataframe",
              "variable_name": "data",
              "summary": "{\n  \"name\": \"data\",\n  \"rows\": 22750,\n  \"fields\": [\n    {\n      \"column\": \"Employee ID\",\n      \"properties\": {\n        \"dtype\": \"string\",\n        \"num_unique_values\": 22750,\n        \"samples\": [\n          \"fffe33003100310033003400\",\n          \"fffe370036003200\",\n          \"fffe3200340037003500\"\n        ],\n        \"semantic_type\": \"\",\n        \"description\": \"\"\n      }\n    },\n    {\n      \"column\": \"Gender\",\n      \"properties\": {\n        \"dtype\": \"category\",\n        \"num_unique_values\": 2,\n        \"samples\": [\n          \"Male\",\n          \"Female\"\n        ],\n        \"semantic_type\": \"\",\n        \"description\": \"\"\n      }\n    },\n    {\n      \"column\": \"Company Type\",\n      \"properties\": {\n        \"dtype\": \"category\",\n        \"num_unique_values\": 2,\n        \"samples\": [\n          \"Product\",\n          \"Service\"\n        ],\n        \"semantic_type\": \"\",\n        \"description\": \"\"\n      }\n    },\n    {\n      \"column\": \"WFH Setup Available\",\n      \"properties\": {\n        \"dtype\": \"category\",\n        \"num_unique_values\": 2,\n        \"samples\": [\n          \"Yes\",\n          \"No\"\n        ],\n        \"semantic_type\": \"\",\n        \"description\": \"\"\n      }\n    },\n    {\n      \"column\": \"Designation\",\n      \"properties\": {\n        \"dtype\": \"number\",\n        \"std\": 1,\n        \"min\": 0,\n        \"max\": 5,\n        \"num_unique_values\": 6,\n        \"samples\": [\n          2,\n          1\n        ],\n        \"semantic_type\": \"\",\n        \"description\": \"\"\n      }\n    },\n    {\n      \"column\": \"Resource Allocation\",\n      \"properties\": {\n        \"dtype\": \"number\",\n        \"std\": 2.0472111205964953,\n        \"min\": 1.0,\n        \"max\": 10.0,\n        \"num_unique_values\": 10,\n        \"samples\": [\n          10.0,\n          2.0\n        ],\n        \"semantic_type\": \"\",\n        \"description\": \"\"\n      }\n    },\n    {\n      \"column\": \"Mental Fatigue Score\",\n      \"properties\": {\n        \"dtype\": \"number\",\n        \"std\": 1.9208386879728037,\n        \"min\": 0.0,\n        \"max\": 10.0,\n        \"num_unique_values\": 101,\n        \"samples\": [\n          1.7,\n          4.5\n        ],\n        \"semantic_type\": \"\",\n        \"description\": \"\"\n      }\n    },\n    {\n      \"column\": \"Burn Rate\",\n      \"properties\": {\n        \"dtype\": \"number\",\n        \"std\": 0.19822636950113903,\n        \"min\": 0.0,\n        \"max\": 1.0,\n        \"num_unique_values\": 101,\n        \"samples\": [\n          0.64,\n          0.0\n        ],\n        \"semantic_type\": \"\",\n        \"description\": \"\"\n      }\n    }\n  ]\n}"
            }
          },
          "metadata": {},
          "execution_count": 39
        }
      ],
      "source": [
        "data.head()"
      ]
    },
    {
      "cell_type": "markdown",
      "id": "9288ac14",
      "metadata": {
        "id": "9288ac14"
      },
      "source": [
        "Now  analysing the categorical variables"
      ]
    },
    {
      "cell_type": "code",
      "execution_count": null,
      "id": "a635f066",
      "metadata": {
        "id": "a635f066"
      },
      "outputs": [],
      "source": [
        "cat_columns = data.select_dtypes(object).columns\n",
        "fig, ax = plt.subplots(nrows=1, ncols=len(cat_columns), sharey=True, figsize=(10, 5))\n",
        "for i, c in enumerate(cat_columns):\n",
        "    sns.countplot(x=c, data=data, ax=ax[i])\n",
        "plt.show()\n"
      ]
    },
    {
      "cell_type": "markdown",
      "id": "6f4d9a28",
      "metadata": {
        "id": "6f4d9a28"
      },
      "source": [
        "The number of observations of each category on each variable is equally distributed, except to the Company_Type where the number of service jobs its almost twice that of product ones.\n"
      ]
    },
    {
      "cell_type": "code",
      "execution_count": null,
      "id": "876b3c68",
      "metadata": {
        "id": "876b3c68"
      },
      "outputs": [],
      "source": [
        "data.columns"
      ]
    },
    {
      "cell_type": "markdown",
      "id": "325d4240",
      "metadata": {
        "id": "325d4240"
      },
      "source": []
    },
    {
      "cell_type": "code",
      "execution_count": null,
      "id": "3551e4d9",
      "metadata": {
        "id": "3551e4d9"
      },
      "outputs": [],
      "source": [
        "data = pd.get_dummies(data, columns=['Company Type', 'WFH Setup Available',\n",
        "       'Gender'], drop_first=True)\n",
        "data.head()\n",
        "encoded_columns = data.columns"
      ]
    }
  ],
  "metadata": {
    "colab": {
      "provenance": []
    },
    "kernelspec": {
      "display_name": "Python 3 (ipykernel)",
      "language": "python",
      "name": "python3"
    },
    "language_info": {
      "codemirror_mode": {
        "name": "ipython",
        "version": 3
      },
      "file_extension": ".py",
      "mimetype": "text/x-python",
      "name": "python",
      "nbconvert_exporter": "python",
      "pygments_lexer": "ipython3",
      "version": "3.11.0"
    }
  },
  "nbformat": 4,
  "nbformat_minor": 5
}